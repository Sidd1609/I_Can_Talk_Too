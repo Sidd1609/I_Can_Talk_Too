{
  "nbformat": 4,
  "nbformat_minor": 0,
  "metadata": {
    "colab": {
      "name": "HandSign.ipynb",
      "provenance": [],
      "include_colab_link": true
    },
    "kernelspec": {
      "name": "python3",
      "display_name": "Python 3"
    }
  },
  "cells": [
    {
      "cell_type": "markdown",
      "metadata": {
        "id": "view-in-github",
        "colab_type": "text"
      },
      "source": [
        "<a href=\"https://colab.research.google.com/github/Sidd1609/I_Can_Talk_Too/blob/master/HandSign.ipynb\" target=\"_parent\"><img src=\"https://colab.research.google.com/assets/colab-badge.svg\" alt=\"Open In Colab\"/></a>"
      ]
    },
    {
      "cell_type": "code",
      "metadata": {
        "id": "_zQQdJi79K6H",
        "colab_type": "code",
        "colab": {}
      },
      "source": [
        "import numpy as np \n",
        "import os \n",
        "from PIL import Image \n",
        "import matplotlib.pyplot as plt\n",
        "import matplotlib.image as mpimg "
      ],
      "execution_count": 0,
      "outputs": []
    },
    {
      "cell_type": "code",
      "metadata": {
        "id": "WrGr0MO99QOR",
        "colab_type": "code",
        "colab": {}
      },
      "source": [
        "lookup = dict()\n",
        "reverselookup = dict()\n",
        "count = 0\n",
        "for j in os.listdir('../input/leapgestrecog/leapGestRecog/00/'):\n",
        "    if not j.startswith('.'):\n",
        "        lookup[j] = count\n",
        "        reverselookup[count] = j\n",
        "        count = count + 1\n",
        "lookup"
      ],
      "execution_count": 0,
      "outputs": []
    },
    {
      "cell_type": "code",
      "metadata": {
        "id": "w4LEVBCp9VvZ",
        "colab_type": "code",
        "colab": {}
      },
      "source": [
        "x_data = []\n",
        "y_data = []\n",
        "datacount = 0 \n",
        "for i in range(0, 10): \n",
        "    for j in os.listdir('../handsign/data/input/leapgestrecog/leapGestRecog/0' + str(i) + '/'):\n",
        "        if not j.startswith('.'): \n",
        "            count = 0 \n",
        "            for k in os.listdir('../handsign/data/input/leapgestrecog/leapGestRecog/0' + \n",
        "                                str(i) + '/' + j + '/'):\n",
        "                     \n",
        "                img = Image.open('../handsign/data/input/leapgestrecog/leapGestRecog/0' + \n",
        "                                 str(i) + '/' + j + '/' + k).convert('L')\n",
        "                        \n",
        "                img = img.resize((320, 120))\n",
        "                arr = np.array(img)\n",
        "                x_data.append(arr) \n",
        "                count = count + 1\n",
        "            y_values = np.full((count, 1), lookup[j]) \n",
        "            y_data.append(y_values)\n",
        "            datacount = datacount + count\n",
        "x_data = np.array(x_data, dtype = 'float32')\n",
        "y_data = np.array(y_data)\n",
        "y_data = y_data.reshape(datacount, 1)"
      ],
      "execution_count": 0,
      "outputs": []
    },
    {
      "cell_type": "code",
      "metadata": {
        "id": "ghkKkPg-9tEM",
        "colab_type": "code",
        "colab": {}
      },
      "source": [
        "from random import randint\n",
        "for i in range(0, 10):\n",
        "    plt.imshow(x_data[i*200 , :, :])\n",
        "    plt.title(reverselookup[y_data[i*200 ,0]])\n",
        "    plt.show()"
      ],
      "execution_count": 0,
      "outputs": []
    },
    {
      "cell_type": "code",
      "metadata": {
        "id": "ghiXx5p09uAK",
        "colab_type": "code",
        "colab": {}
      },
      "source": [
        "import keras\n",
        "from keras.utils import to_categorical\n",
        "y_data = to_categorical(y_data)\n",
        "x_data = x_data.reshape((datacount, 120, 320, 1))\n",
        "x_data /= 255"
      ],
      "execution_count": 0,
      "outputs": []
    },
    {
      "cell_type": "code",
      "metadata": {
        "id": "H06O8ZWR9xL4",
        "colab_type": "code",
        "colab": {}
      },
      "source": [
        "from sklearn.model_selection import train_test_split\n",
        "x_train,x_further,y_train,y_further = train_test_split(x_data,y_data,test_size = 0.2)\n",
        "x_validate,x_test,y_validate,y_test = train_test_split(x_further,y_further,test_size = 0.5)"
      ],
      "execution_count": 0,
      "outputs": []
    },
    {
      "cell_type": "code",
      "metadata": {
        "id": "OgZHirpq92lB",
        "colab_type": "code",
        "colab": {}
      },
      "source": [
        "from keras import layers\n",
        "from keras import models\n",
        "model=models.Sequential()\n",
        "model.add(layers.Conv2D(32, (5, 5), strides=(2, 2), activation='relu', input_shape=(120, 320,1))) \n",
        "model.add(layers.MaxPooling2D((2, 2)))\n",
        "model.add(layers.Conv2D(64, (3, 3), activation='relu')) \n",
        "model.add(layers.MaxPooling2D((2, 2)))\n",
        "model.add(layers.Conv2D(64, (3, 3), activation='relu'))\n",
        "model.add(layers.MaxPooling2D((2, 2)))\n",
        "model.add(layers.Flatten())\n",
        "model.add(layers.Dense(128, activation='relu'))\n",
        "model.add(layers.Dense(10, activation='softmax'))\n",
        "model.compile(optimizer='rmsprop',\n",
        "              loss='categorical_crossentropy',\n",
        "              metrics=['accuracy'])\n",
        "model.fit(x_train, y_train, epochs=10, batch_size=64, verbose=1, validation_data=(x_validate, y_validate))"
      ],
      "execution_count": 0,
      "outputs": []
    },
    {
      "cell_type": "code",
      "metadata": {
        "id": "cHBaLVBS-I7E",
        "colab_type": "code",
        "colab": {}
      },
      "source": [
        "[loss, acc] = model.evaluate(x_test,y_test,verbose=1)\n",
        "print(\"Accuracy:\" + str(acc))"
      ],
      "execution_count": 0,
      "outputs": []
    }
  ]
}